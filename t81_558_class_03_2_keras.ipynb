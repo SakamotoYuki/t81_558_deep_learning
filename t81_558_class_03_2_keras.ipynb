{
 "cells": [
  {
   "cell_type": "markdown",
   "metadata": {},
   "source": [
    "<a href=\"https://colab.research.google.com/github/jeffheaton/t81_558_deep_learning/blob/master/t81_558_class_03_2_keras.ipynb\" target=\"_parent\"><img src=\"https://colab.research.google.com/assets/colab-badge.svg\" alt=\"Open In Colab\"/></a>"
   ]
  },
  {
   "cell_type": "markdown",
   "metadata": {},
   "source": [
    "# T81-558: Applications of Deep Neural Networks\n",
    "**Module 3: Introduction to TensorFlow**\n",
    "* Instructor: [Jeff Heaton](https://sites.wustl.edu/jeffheaton/), McKelvey School of Engineering, [Washington University in St. Louis](https://engineering.wustl.edu/Programs/Pages/default.aspx)\n",
    "* For more information visit the [class website](https://sites.wustl.edu/jeffheaton/t81-558/)."
   ]
  },
  {
   "cell_type": "markdown",
   "metadata": {},
   "source": [
    "# Module 3 Material\n",
    "\n",
    "* Part 3.1: Deep Learning and Neural Network Introduction [[Video]](https://www.youtube.com/watch?v=zYnI4iWRmpc&list=PLjy4p-07OYzulelvJ5KVaT2pDlxivl_BN) [[Notebook]](t81_558_class_03_1_neural_net.ipynb)\n",
    "* **Part 3.2: Introduction to Tensorflow and Keras** [[Video]](https://www.youtube.com/watch?v=PsE73jk55cE&list=PLjy4p-07OYzulelvJ5KVaT2pDlxivl_BN) [[Notebook]](t81_558_class_03_2_keras.ipynb)\n",
    "* Part 3.3: Saving and Loading a Keras Neural Network [[Video]](https://www.youtube.com/watch?v=-9QfbGM1qGw&list=PLjy4p-07OYzulelvJ5KVaT2pDlxivl_BN) [[Notebook]](t81_558_class_03_3_save_load.ipynb)\n",
    "* Part 3.4: Early Stopping in Keras to Prevent Overfitting [[Video]](https://www.youtube.com/watch?v=m1LNunuI2fk&list=PLjy4p-07OYzulelvJ5KVaT2pDlxivl_BN) [[Notebook]](t81_558_class_03_4_early_stop.ipynb)\n",
    "* Part 3.5: Extracting Weights and Manual Calculation [[Video]](https://www.youtube.com/watch?v=7PWgx16kH8s&list=PLjy4p-07OYzulelvJ5KVaT2pDlxivl_BN) [[Notebook]](t81_558_class_03_5_weights.ipynb)"
   ]
  },
  {
   "cell_type": "markdown",
   "metadata": {},
   "source": [
    "# Google CoLab Instructions\n",
    "\n",
    "The following code ensures that Google CoLab is running the correct version of TensorFlow."
   ]
  },
  {
   "cell_type": "code",
   "execution_count": 1,
   "metadata": {},
   "outputs": [],
   "source": [
    "try:\n",
    "    %tensorflow_version 2.x\n",
    "    COLAB = True\n",
    "    print(\"Note: using Google CoLab\")\n",
    "except:\n",
    "    print(\"Note: not using Google CoLab\")\n",
    "    COLAB = False"
   ]
  },
  {
   "cell_type": "markdown",
   "metadata": {},
   "source": [
    "# Part 3.2: Introduction to Tensorflow and Keras\n",
    "\n",
    "TensorFlow is an open-source software library for machine learning in various kinds of perceptual and language understanding tasks. It is currently used for both research and production by different teams in many commercial Google products, such as speech recognition, Gmail, Google Photos, and search, many of which had previously used its predecessor DistBelief. TensorFlow was originally developed by the Google Brain team for Google's research and production purposes and later released under the Apache 2.0 open source license on November 9, 2015.\n",
    "\n",
    "* [TensorFlow Homepage](https://www.tensorflow.org/)\n",
    "* [TensorFlow GitHib](https://github.com/tensorflow/tensorflow)\n",
    "* [TensorFlow Google Groups Support](https://groups.google.com/forum/#!forum/tensorflow)\n",
    "* [TensorFlow Google Groups Developer Discussion](https://groups.google.com/a/tensorflow.org/forum/#!forum/discuss)\n",
    "* [TensorFlow FAQ](https://www.tensorflow.org/resources/faq)\n"
   ]
  },
  {
   "cell_type": "markdown",
   "metadata": {},
   "source": [
    "## Why TensorFlow\n",
    "\n",
    "* Supported by Google\n",
    "* Works well on Windows, Linux, and Mac\n",
    "* Excellent GPU support\n",
    "* Python is an easy to learn programming language\n",
    "* Python is extremely popular in the data science community\n",
    "\n",
    "## Deep Learning Tools\n",
    "TensorFlow is not the only game in town. The biggest competitor to TensorFlow/Keras is PyTorch. Listed below are some of the deep learning toolkits actively being supported:\n",
    "\n",
    "* **[TensorFlow](https://www.tensorflow.org/)** - Google's deep learning API.  The focus of this class, along with Keras.\n",
    "* **[Keras](https://keras.io/)** - Also by Google, higher level framework that allows the use of TensorFlow, MXNet and Theano interchangeably.\n",
    "* **[PyTorch](https://pytorch.org/)** - PyTorch is an open source machine learning library based on the Torch library, used for applications such as computer vision and natural language processing. It is primarily developed by Facebook's AI Research lab. \n",
    "\n",
    "Other deep learning tools:\n",
    "\n",
    "* **[MXNet](https://mxnet.incubator.apache.org/)** Apache foundation's deep learning API. Can be used through Keras.\n",
    "* **[Torch](http://torch.ch/)** is used by Google DeepMind, the Facebook AI Research Group, IBM, Yandex and the Idiap Research Institute.  It has been used for some of the most advanced deep learning projects in the world.  However, it requires the [LUA](https://en.wikipedia.org/wiki/Lua_(programming_language))** programming language.  It is very advanced, but it is not mainstream.  I have not worked with Torch (yet!).\n",
    "* **[PaddlePaddle](https://github.com/baidu/Paddle)** - [Baidu](http://www.baidu.com/)'s deep learning API.\n",
    "* **[Deeplearning4J](http://deeplearning4j.org/)** - Java based. Supports all major platforms. GPU support in Java!\n",
    "* **[Computational Network Toolkit (CNTK)](https://github.com/Microsoft/CNTK)** - Microsoft.  Support for Windows/Linux, command line only.  Bindings for predictions for C#/Python. GPU support.\n",
    "* **[H2O](http://www.h2o.ai/)** - Java based.  Supports all major platforms.  Limited support for computer vision. No GPU support.\n",
    "\n",
    "In my opinion, the two primary Python libraries for deep learning are PyTorch and Keras. Generally, PyTorch requires more lines of code to perform the deep learning applications presented in this course.  This trait of PyTorch gives Keras an easier learning curve than PyTorch.  However, if you are creating entirely new neural network structures, in a research setting, PyTorch can make for easier access to some of the low-level internals of deep learning.\n",
    "\n",
    "## Using TensorFlow Directly\n",
    "\n",
    "Most of the time in the course, we will communicate with TensorFlow using Keras [[Cite:franccois2017deep]](https://www.manning.com/books/deep-learning-with-python), which allows you to specify the number of hidden layers and create the neural network.  TensorFlow is a low-level mathematics API, similar to [Numpy](http://www.numpy.org/).  However, unlike Numpy, TensorFlow is built for deep learning. TensorFlow compiles these compute graphs into highly efficient C++/[CUDA](https://en.wikipedia.org/wiki/CUDA) code.\n",
    "\n",
    "### TensorFlow Linear Algebra Examples\n",
    "\n",
    "TensorFlow is a library for linear algebra.  Keras is a higher-level abstraction for neural networks that you build upon TensorFlow.  In this section, I will demonstrate some basic linear algebra that employs TensorFlow directly and does not make use of Keras.  First, we will see how to multiply a row and column matrix."
   ]
  },
  {
   "cell_type": "code",
   "execution_count": 1,
   "metadata": {},
   "outputs": [
    {
     "name": "stdout",
     "output_type": "stream",
     "text": [
      "tf.Tensor([[12.]], shape=(1, 1), dtype=float32)\n",
      "12.0\n"
     ]
    }
   ],
   "source": [
    "import tensorflow as tf\n",
    "\n",
    "# Create a Constant op that produces a 1x2 matrix.  The op is\n",
    "# added as a node to the default graph.\n",
    "#\n",
    "# The value returned by the constructor represents the output\n",
    "# of the Constant op.\n",
    "matrix1 = tf.constant([[3., 3.]])\n",
    "\n",
    "# Create another Constant that produces a 2x1 matrix.\n",
    "matrix2 = tf.constant([[2.],[2.]])\n",
    "\n",
    "# Create a Matmul op that takes 'matrix1' and 'matrix2' as inputs.\n",
    "# The returned value, 'product', represents the result of the matrix\n",
    "# multiplication.\n",
    "product = tf.matmul(matrix1, matrix2)\n",
    "\n",
    "print(product)\n",
    "print(float(product))"
   ]
  },
  {
   "cell_type": "markdown",
   "metadata": {},
   "source": [
    "This example multiplied two TensorFlow constant tensors.  Next, we will see how to subtract a constant from a variable."
   ]
  },
  {
   "cell_type": "code",
   "execution_count": 4,
   "metadata": {},
   "outputs": [
    {
     "name": "stdout",
     "output_type": "stream",
     "text": [
      "tf.Tensor([-2. -1.], shape=(2,), dtype=float32)\n",
      "[-2. -1.]\n"
     ]
    }
   ],
   "source": [
    "import tensorflow as tf\n",
    "\n",
    "x = tf.Variable([1.0, 2.0])\n",
    "a = tf.constant([3.0, 3.0])\n",
    "\n",
    "# Add an op to subtract 'a' from 'x'.  Run it and print the result\n",
    "sub = tf.subtract(x, a)\n",
    "print(sub)\n",
    "print(sub.numpy())\n",
    "# ==> [-2. -1.]"
   ]
  },
  {
   "cell_type": "markdown",
   "metadata": {},
   "source": [
    "Of course, variables are only useful if their values can be changed.  The program can accomplish this change in value by calling the assign function."
   ]
  },
  {
   "cell_type": "code",
   "execution_count": 5,
   "metadata": {},
   "outputs": [
    {
     "data": {
      "text/plain": [
       "<tf.Variable 'UnreadVariable' shape=(2,) dtype=float32, numpy=array([4., 6.], dtype=float32)>"
      ]
     },
     "execution_count": 5,
     "metadata": {},
     "output_type": "execute_result"
    }
   ],
   "source": [
    "x.assign([4.0, 6.0])"
   ]
  },
  {
   "cell_type": "markdown",
   "metadata": {},
   "source": [
    "The program can now perform the subtraction with this new value."
   ]
  },
  {
   "cell_type": "code",
   "execution_count": 6,
   "metadata": {},
   "outputs": [
    {
     "name": "stdout",
     "output_type": "stream",
     "text": [
      "tf.Tensor([1. 3.], shape=(2,), dtype=float32)\n",
      "[1. 3.]\n"
     ]
    }
   ],
   "source": [
    "sub = tf.subtract(x, a)\n",
    "print(sub)\n",
    "print(sub.numpy())"
   ]
  },
  {
   "cell_type": "markdown",
   "metadata": {},
   "source": [
    "In the next section, we will see a TensorFlow example that has nothing to do with neural networks."
   ]
  },
  {
   "cell_type": "markdown",
   "metadata": {},
   "source": [
    "### TensorFlow Mandelbrot Set Example\n",
    "\n",
    "Next, we examine another example where we use TensorFlow directly.  To demonstrate that TensorFlow is mathematical and does not only provide neural networks, we will also first use it for a non-machine learning rendering task. The code presented here is capable of rendering a [Mandelbrot set](https://en.wikipedia.org/wiki/Mandelbrot_set). Note, I based this example on a Mandelbrot example that I found [here]( https://chromium.googlesource.com/external/github.com/tensorflow/tensorflow/+/r0.10/tensorflow/g3doc/tutorials/mandelbrot/index.md). I've updated the code slightly to comply with current versions of TensorFlow."
   ]
  },
  {
   "cell_type": "code",
   "execution_count": 4,
   "metadata": {},
   "outputs": [
    {
     "data": {
      "image/jpeg": "[encoded data removed]",
      "text/plain": [
       "<IPython.core.display.Image object>"
      ]
     },
     "metadata": {},
     "output_type": "display_data"
    }
   ],
   "source": [
    "# Import libraries for simulation\n",
    "import tensorflow as tf\n",
    "import numpy as np\n",
    "\n",
    "# Imports for visualization\n",
    "import PIL.Image\n",
    "from io import BytesIO\n",
    "from IPython.display import Image, display\n",
    "\n",
    "def DisplayFractal(a, fmt='jpeg'):\n",
    "  \"\"\"Display an array of iteration counts as a\n",
    "     colorful picture of a fractal.\"\"\"\n",
    "  a_cyclic = (6.28*a/20.0).reshape(list(a.shape)+[1])\n",
    "  img = np.concatenate([10+20*np.cos(a_cyclic),\n",
    "                        30+50*np.sin(a_cyclic),\n",
    "                        155-80*np.cos(a_cyclic)], 2)\n",
    "  img[a==a.max()] = 0\n",
    "  a = img\n",
    "  a = np.uint8(np.clip(a, 0, 255))\n",
    "  f = BytesIO()\n",
    "  PIL.Image.fromarray(a).save(f, fmt)\n",
    "  display(Image(data=f.getvalue()))\n",
    "\n",
    "# Use NumPy to create a 2D array of complex numbers\n",
    "\n",
    "Y, X = np.mgrid[-1.3:1.3:0.005, -2:1:0.005]\n",
    "Z = X+1j*Y\n",
    "\n",
    "xs = tf.constant(Z.astype(np.complex64))\n",
    "zs = tf.Variable(xs)\n",
    "ns = tf.Variable(tf.zeros_like(xs, tf.float32))\n",
    "\n",
    "\n",
    "\n",
    "# Operation to update the zs and the iteration count.\n",
    "#\n",
    "# Note: We keep computing zs after they diverge! This\n",
    "#       is very wasteful! There are better, if a little\n",
    "#       less simple, ways to do this.\n",
    "#\n",
    "for i in range(20000):\n",
    "    # Compute the new values of z: z^2 + x\n",
    "    zs_ = zs*zs + xs\n",
    "\n",
    "    # Have we diverged with this new value?\n",
    "    not_diverged = tf.abs(zs_) < 4\n",
    "\n",
    "    zs.assign(zs_),\n",
    "    ns.assign_add(tf.cast(not_diverged, tf.float32))\n",
    "    \n",
    "DisplayFractal(ns.numpy())"
   ]
  },
  {
   "cell_type": "markdown",
   "metadata": {},
   "source": [
    "Mandlebrot render is both simple and infinitely complex at the same time. This view shows the entire Mandlebrot universe at the same time, as it is completely zoomed out. However, if you zoom in on any non-black portion of the plot, you will find infinite hidden complexity. "
   ]
  },
  {
   "cell_type": "markdown",
   "metadata": {},
   "source": [
    "### Introduction to Keras\n",
    "\n",
    "[Keras](https://keras.io/) is a layer on top of Tensorflow that makes it much easier to create neural networks.  Rather than define the graphs, as you see above, you set the individual layers of the network with a much more high-level API.  Unless you are performing research into entirely new structures of deep neural networks, it is unlikely that you need to program TensorFlow directly.  \n",
    "\n",
    "**For this class, we will use usually use TensorFlow through Keras, rather than direct TensorFlow**\n",
    "\n",
    "### Simple TensorFlow Regression: MPG\n",
    "\n",
    "This example shows how to encode the MPG dataset for regression.  This dataset is slightly more complicated than Iris, because:\n",
    "\n",
    "* Input has both numeric and categorical\n",
    "* Input has missing values\n",
    "\n",
    "This example uses functions defined above in this notepad, the \"helpful functions\". These functions allow you to build the feature vector for a neural network. Consider the following:\n",
    "\n",
    "* Predictors/Inputs \n",
    "    * Fill any missing inputs with the median for that column.  Use **missing_median**.\n",
    "    * Encode textual/categorical values with **encode_text_dummy**.\n",
    "    * Encode numeric values with **encode_numeric_zscore**.\n",
    "* Output\n",
    "    * Discard rows with missing outputs.\n",
    "    * Encode textual/categorical values with **encode_text_index**.\n",
    "    * Do not encode output numeric values.\n",
    "* Produce final feature vectors (x) and expected output (y) with **to_xy**.\n",
    "\n",
    "To encode categorical values that are part of the feature vector, use the functions from above if the categorical value is the target (as was the case with Iris, use the same technique as Iris). The iris technique allows you to decode back to Iris text strings from the predictions."
   ]
  },
  {
   "cell_type": "code",
   "execution_count": 8,
   "metadata": {},
   "outputs": [
    {
     "name": "stdout",
     "output_type": "stream",
     "text": [
      "Train on 398 samples\n",
      "Epoch 1/100\n",
      "398/398 - 0s - loss: 532928.3769\n",
      "Epoch 2/100\n",
      "398/398 - 0s - loss: 253903.1740\n",
      "Epoch 3/100\n",
      "398/398 - 0s - loss: 100463.9936\n",
      "Epoch 4/100\n",
      "398/398 - 0s - loss: 39376.4139\n",
      "Epoch 5/100\n",
      "398/398 - 0s - loss: 14699.5505\n",
      "Epoch 6/100\n",
      "398/398 - 0s - loss: 10070.2764\n",
      "Epoch 7/100\n",
      "398/398 - 0s - loss: 8767.4534\n",
      "Epoch 8/100\n",
      "398/398 - 0s - loss: 7568.0651\n",
      "Epoch 9/100\n",
      "398/398 - 0s - loss: 6519.3935\n",
      "Epoch 10/100\n",
      "398/398 - 0s - loss: 5638.3222\n",
      "Epoch 11/100\n",
      "398/398 - 0s - loss: 4900.6222\n",
      "Epoch 12/100\n",
      "398/398 - 0s - loss: 4256.2369\n",
      "Epoch 13/100\n",
      "398/398 - 0s - loss: 3715.3158\n",
      "Epoch 14/100\n",
      "398/398 - 0s - loss: 3243.3127\n",
      "Epoch 15/100\n",
      "398/398 - 0s - loss: 2837.4957\n",
      "Epoch 16/100\n",
      "398/398 - 0s - loss: 2493.2320\n",
      "Epoch 17/100\n",
      "398/398 - 0s - loss: 2191.6368\n",
      "Epoch 18/100\n",
      "398/398 - 0s - loss: 1935.9826\n",
      "Epoch 19/100\n",
      "398/398 - 0s - loss: 1709.9219\n",
      "Epoch 20/100\n",
      "398/398 - 0s - loss: 1517.5594\n",
      "Epoch 21/100\n",
      "398/398 - 0s - loss: 1347.0029\n",
      "Epoch 22/100\n",
      "398/398 - 0s - loss: 1202.3976\n",
      "Epoch 23/100\n",
      "398/398 - 0s - loss: 1074.8017\n",
      "Epoch 24/100\n",
      "398/398 - 0s - loss: 965.3571\n",
      "Epoch 25/100\n",
      "398/398 - 0s - loss: 869.1089\n",
      "Epoch 26/100\n",
      "398/398 - 0s - loss: 786.9213\n",
      "Epoch 27/100\n",
      "398/398 - 0s - loss: 712.5439\n",
      "Epoch 28/100\n",
      "398/398 - 0s - loss: 648.9730\n",
      "Epoch 29/100\n",
      "398/398 - 0s - loss: 592.6204\n",
      "Epoch 30/100\n",
      "398/398 - 0s - loss: 542.2534\n",
      "Epoch 31/100\n",
      "398/398 - 0s - loss: 499.5945\n",
      "Epoch 32/100\n",
      "398/398 - 0s - loss: 460.6432\n",
      "Epoch 33/100\n",
      "398/398 - 0s - loss: 426.6404\n",
      "Epoch 34/100\n",
      "398/398 - 0s - loss: 397.0015\n",
      "Epoch 35/100\n",
      "398/398 - 0s - loss: 371.2881\n",
      "Epoch 36/100\n",
      "398/398 - 0s - loss: 347.1069\n",
      "Epoch 37/100\n",
      "398/398 - 0s - loss: 327.0558\n",
      "Epoch 38/100\n",
      "398/398 - 0s - loss: 308.9706\n",
      "Epoch 39/100\n",
      "398/398 - 0s - loss: 293.4671\n",
      "Epoch 40/100\n",
      "398/398 - 0s - loss: 279.4684\n",
      "Epoch 41/100\n",
      "398/398 - 0s - loss: 266.5202\n",
      "Epoch 42/100\n",
      "398/398 - 0s - loss: 255.4313\n",
      "Epoch 43/100\n",
      "398/398 - 0s - loss: 245.8519\n",
      "Epoch 44/100\n",
      "398/398 - 0s - loss: 237.3705\n",
      "Epoch 45/100\n",
      "398/398 - 0s - loss: 229.9772\n",
      "Epoch 46/100\n",
      "398/398 - 0s - loss: 223.4570\n",
      "Epoch 47/100\n",
      "398/398 - 0s - loss: 217.3037\n",
      "Epoch 48/100\n",
      "398/398 - 0s - loss: 212.0329\n",
      "Epoch 49/100\n",
      "398/398 - 0s - loss: 207.3768\n",
      "Epoch 50/100\n",
      "398/398 - 0s - loss: 203.4740\n",
      "Epoch 51/100\n",
      "398/398 - 0s - loss: 199.8031\n",
      "Epoch 52/100\n",
      "398/398 - 0s - loss: 196.9008\n",
      "Epoch 53/100\n",
      "398/398 - 0s - loss: 194.1096\n",
      "Epoch 54/100\n",
      "398/398 - 0s - loss: 191.8634\n",
      "Epoch 55/100\n",
      "398/398 - 0s - loss: 189.6037\n",
      "Epoch 56/100\n",
      "398/398 - 0s - loss: 187.9038\n",
      "Epoch 57/100\n",
      "398/398 - 0s - loss: 186.4501\n",
      "Epoch 58/100\n",
      "398/398 - 0s - loss: 184.9448\n",
      "Epoch 59/100\n",
      "398/398 - 0s - loss: 183.7436\n",
      "Epoch 60/100\n",
      "398/398 - 0s - loss: 182.6323\n",
      "Epoch 61/100\n",
      "398/398 - 0s - loss: 181.8248\n",
      "Epoch 62/100\n",
      "398/398 - 0s - loss: 180.8635\n",
      "Epoch 63/100\n",
      "398/398 - 0s - loss: 180.1527\n",
      "Epoch 64/100\n",
      "398/398 - 0s - loss: 179.4130\n",
      "Epoch 65/100\n",
      "398/398 - 0s - loss: 178.8714\n",
      "Epoch 66/100\n",
      "398/398 - 0s - loss: 178.4050\n",
      "Epoch 67/100\n",
      "398/398 - 0s - loss: 177.8955\n",
      "Epoch 68/100\n",
      "398/398 - 0s - loss: 177.4985\n",
      "Epoch 69/100\n",
      "398/398 - 0s - loss: 177.1324\n",
      "Epoch 70/100\n",
      "398/398 - 0s - loss: 176.8686\n",
      "Epoch 71/100\n",
      "398/398 - 0s - loss: 176.5298\n",
      "Epoch 72/100\n",
      "398/398 - 0s - loss: 176.3295\n",
      "Epoch 73/100\n",
      "398/398 - 0s - loss: 176.0535\n",
      "Epoch 74/100\n",
      "398/398 - 0s - loss: 175.8712\n",
      "Epoch 75/100\n",
      "398/398 - 0s - loss: 175.6723\n",
      "Epoch 76/100\n",
      "398/398 - 0s - loss: 175.5422\n",
      "Epoch 77/100\n",
      "398/398 - 0s - loss: 175.3606\n",
      "Epoch 78/100\n",
      "398/398 - 0s - loss: 175.2149\n",
      "Epoch 79/100\n",
      "398/398 - 0s - loss: 175.1186\n",
      "Epoch 80/100\n",
      "398/398 - 0s - loss: 174.9576\n",
      "Epoch 81/100\n",
      "398/398 - 0s - loss: 174.8516\n",
      "Epoch 82/100\n",
      "398/398 - 0s - loss: 174.7489\n",
      "Epoch 83/100\n",
      "398/398 - 0s - loss: 174.6472\n",
      "Epoch 84/100\n",
      "398/398 - 0s - loss: 174.5678\n",
      "Epoch 85/100\n",
      "398/398 - 0s - loss: 174.4445\n",
      "Epoch 86/100\n",
      "398/398 - 0s - loss: 174.3567\n",
      "Epoch 87/100\n",
      "398/398 - 0s - loss: 174.2643\n",
      "Epoch 88/100\n",
      "398/398 - 0s - loss: 174.1730\n",
      "Epoch 89/100\n",
      "398/398 - 0s - loss: 174.1209\n",
      "Epoch 90/100\n",
      "398/398 - 0s - loss: 174.0430\n",
      "Epoch 91/100\n",
      "398/398 - 0s - loss: 173.9585\n",
      "Epoch 92/100\n",
      "398/398 - 0s - loss: 173.8340\n",
      "Epoch 93/100\n",
      "398/398 - 0s - loss: 173.7509\n",
      "Epoch 94/100\n",
      "398/398 - 0s - loss: 173.6775\n",
      "Epoch 95/100\n",
      "398/398 - 0s - loss: 173.5709\n",
      "Epoch 96/100\n",
      "398/398 - 0s - loss: 173.5111\n",
      "Epoch 97/100\n",
      "398/398 - 0s - loss: 173.4251\n",
      "Epoch 98/100\n",
      "398/398 - 0s - loss: 173.3334\n",
      "Epoch 99/100\n",
      "398/398 - 0s - loss: 173.2709\n",
      "Epoch 100/100\n",
      "398/398 - 0s - loss: 173.1735\n"
     ]
    },
    {
     "data": {
      "text/plain": [
       "<tensorflow.python.keras.callbacks.History at 0x275f09bc408>"
      ]
     },
     "execution_count": 8,
     "metadata": {},
     "output_type": "execute_result"
    }
   ],
   "source": [
    "from tensorflow.keras.models import Sequential\n",
    "from tensorflow.keras.layers import Dense, Activation\n",
    "import pandas as pd\n",
    "import io\n",
    "import os\n",
    "import requests\n",
    "import numpy as np\n",
    "from sklearn import metrics\n",
    "\n",
    "df = pd.read_csv(\n",
    "    \"https://data.heatonresearch.com/data/t81-558/auto-mpg.csv\", \n",
    "    na_values=['NA', '?'])\n",
    "\n",
    "cars = df['name']\n",
    "\n",
    "# Handle missing value\n",
    "df['horsepower'] = df['horsepower'].fillna(df['horsepower'].median())\n",
    "\n",
    "# Pandas to Numpy\n",
    "x = df[['cylinders', 'displacement', 'horsepower', 'weight',\n",
    "       'acceleration', 'year', 'origin']].values\n",
    "y = df['mpg'].values # regression\n",
    "\n",
    "# Build the neural network\n",
    "model = Sequential()\n",
    "model.add(Dense(25, input_dim=x.shape[1], activation='relu')) # Hidden 1\n",
    "model.add(Dense(10, activation='relu')) # Hidden 2\n",
    "model.add(Dense(1)) # Output\n",
    "model.compile(loss='mean_squared_error', optimizer='adam')\n",
    "model.fit(x,y,verbose=2,epochs=100)"
   ]
  },
  {
   "cell_type": "markdown",
   "metadata": {},
   "source": [
    "### Introduction to Neural Network Hyperparameters\n",
    "\n",
    "If you look at the above code, you will see that the neural network contains four layers.  The first layer is the input layer because it contains the **input_dim** parameter that the programmer sets to be the number of inputs that the dataset has.  The network needs one input neuron for every column in the data set (including dummy variables).  \n",
    "\n",
    "There are also several hidden layers, with 25 and 10 neurons each. You might be wondering how the programmer chose these numbers. Selecting a hidden neuron structure is one of the most common questions about neural networks.  Unfortunately, there is not a right answer.  These are hyperparameters.  They are settings that can affect neural network performance, yet there are not a clearly defined means of setting them.\n",
    "\n",
    "In general, more hidden neurons mean more capability to fit complex problems.  However, too many neurons can lead to overfitting and lengthy training times.  Too few can lead to underfitting the problem and will sacrifice accuracy.  Also, how many layers you have is another hyperparameter.  In general, more layers allow the neural network to be able to perform more of its feature engineering and data preprocessing.  But this also comes at the expense of training times and the risk of overfitting.  In general, you will see that neuron counts start larger near the input layer and tend to shrink towards the output layer in a sort of triangular fashion. \n",
    "\n",
    "Some techniques use machine learning to optimize these values.  These will be discussed in [Module 8.3](t81_558_class_08_3_keras_hyperparameters.ipynb).\n",
    "\n",
    "### Controlling the Amount of Output\n",
    "\n",
    "The program produces one line of output for each training epoch.  You can eliminate this output by setting the verbose setting of the fit command:\n",
    "\n",
    "* **verbose=0** - No progress output (use with Jupyter if you do not want output)\n",
    "* **verbose=1** - Display progress bar, does not work well with Jupyter\n",
    "* **verbose=2** - Summary progress output (use with Jupyter if you want to know the loss at each epoch)\n",
    "\n",
    "### Regression Prediction\n",
    "\n",
    "Next, we will perform actual predictions.  The program assigns these predictions to the **pred** variable. These are all MPG predictions from the neural network.  Notice that this is a 2D array?  You can always see the dimensions of what Keras returns by printing out **pred.shape**.  Neural networks can return multiple values, so the result is always an array.  Here the neural network only returns one value per prediction (there are 398 cars, so 398 predictions).  However, a 2D range is needed because the neural network has the potential of returning more than one value.   "
   ]
  },
  {
   "cell_type": "code",
   "execution_count": 9,
   "metadata": {},
   "outputs": [
    {
     "name": "stdout",
     "output_type": "stream",
     "text": [
      "Shape: (398, 1)\n",
      "[[23.08987 ]\n",
      " [23.776747]\n",
      " [22.190557]\n",
      " [22.24273 ]\n",
      " [22.536469]\n",
      " [27.865118]\n",
      " [27.486967]\n",
      " [27.316473]\n",
      " [27.953611]\n",
      " [24.391483]]\n"
     ]
    }
   ],
   "source": [
    "pred = model.predict(x)\n",
    "print(f\"Shape: {pred.shape}\")\n",
    "print(pred[0:10])"
   ]
  },
  {
   "cell_type": "markdown",
   "metadata": {},
   "source": [
    "We would like to see how good these predictions are.  We know what the correct MPG is for each car, so we can measure how close the neural network was."
   ]
  },
  {
   "cell_type": "code",
   "execution_count": 10,
   "metadata": {},
   "outputs": [
    {
     "name": "stdout",
     "output_type": "stream",
     "text": [
      "Final score (RMSE): 13.157274080377979\n"
     ]
    }
   ],
   "source": [
    "# Measure RMSE error.  RMSE is common for regression.\n",
    "score = np.sqrt(metrics.mean_squared_error(pred,y))\n",
    "print(f\"Final score (RMSE): {score}\")"
   ]
  },
  {
   "cell_type": "markdown",
   "metadata": {},
   "source": [
    "The number printed above is the average amount that the predictions were above or below the expected output. We can also print out the first ten cars, with predictions and actual MPG."
   ]
  },
  {
   "cell_type": "code",
   "execution_count": 11,
   "metadata": {},
   "outputs": [
    {
     "name": "stdout",
     "output_type": "stream",
     "text": [
      "1. Car name: chevrolet chevelle malibu, MPG: 18.0, predicted MPG: {pred[i]}\n",
      "2. Car name: buick skylark 320, MPG: 15.0, predicted MPG: {pred[i]}\n",
      "3. Car name: plymouth satellite, MPG: 18.0, predicted MPG: {pred[i]}\n",
      "4. Car name: amc rebel sst, MPG: 16.0, predicted MPG: {pred[i]}\n",
      "5. Car name: ford torino, MPG: 17.0, predicted MPG: {pred[i]}\n",
      "6. Car name: ford galaxie 500, MPG: 15.0, predicted MPG: {pred[i]}\n",
      "7. Car name: chevrolet impala, MPG: 14.0, predicted MPG: {pred[i]}\n",
      "8. Car name: plymouth fury iii, MPG: 14.0, predicted MPG: {pred[i]}\n",
      "9. Car name: pontiac catalina, MPG: 14.0, predicted MPG: {pred[i]}\n",
      "10. Car name: amc ambassador dpl, MPG: 15.0, predicted MPG: {pred[i]}\n"
     ]
    }
   ],
   "source": [
    "# Sample predictions\n",
    "for i in range(10):\n",
    "    print(f\"{i+1}. Car name: {cars[i]}, MPG: {y[i]}, \" \n",
    "          + \"predicted MPG: {pred[i]}\")"
   ]
  },
  {
   "cell_type": "markdown",
   "metadata": {},
   "source": [
    "### Simple TensorFlow Classification: Iris\n",
    "\n",
    "Classification is the process by which a neural network attempts to classify the input into one or more classes.  The simplest way of evaluating a classification network is to track the percentage of training set items that were classified incorrectly.  We typically score human results in this manner. For example, you might have taken multiple-choice exams in school in which you had to shade in a bubble for choices A, B, C, or D.  If you chose the wrong letter on a 10-question exam, you would earn a 90%.  In the same way, we can grade computers; however, most classification algorithms do not merely choose A, B, C, or D.  Computers typically report a classification as their percent confidence in each class.  Figure 3.EXAM shows how a computer and a human might both respond to question number 1 on an exam.\n",
    "\n",
    "**Figure 3.EXAM: Classification Neural Network Output**\n",
    "![Classification Neural Network Output](images/class-multi-choice.png \"Classification Neural Network Output\")\n",
    "\n",
    "As you can see, the human test taker marked the first question as \"B.\" However, the computer test taker had an 80% (0.8) confidence in \"B\" and was also somewhat sure with 10% (0.1) on \"A.\" The computer then distributed the remaining points on the other two.  In the simplest sense, the machine would get 80% of the score for this question if the correct answer were \"B.\" The computer would get only 5% (0.05) of the points if the correct answer were \"D.\" \n",
    "\n",
    "What we just saw is a straightforward example of how to perform the Iris classification using TensorFlow.  The iris.csv file is used, rather than using the built-in data that many of the Google examples require.  \n",
    "\n",
    "**Make sure that you always run previous code blocks.  If you run the code block below, without the code block above, you will get errors**"
   ]
  },
  {
   "cell_type": "code",
   "execution_count": 12,
   "metadata": {},
   "outputs": [
    {
     "name": "stdout",
     "output_type": "stream",
     "text": [
      "Train on 150 samples\n",
      "Epoch 1/100\n",
      "150/150 - 0s - loss: 1.1343\n",
      "Epoch 2/100\n",
      "150/150 - 0s - loss: 1.0067\n",
      "Epoch 3/100\n",
      "150/150 - 0s - loss: 0.9150\n",
      "Epoch 4/100\n",
      "150/150 - 0s - loss: 0.8430\n",
      "Epoch 5/100\n",
      "150/150 - 0s - loss: 0.7892\n",
      "Epoch 6/100\n",
      "150/150 - 0s - loss: 0.7348\n",
      "Epoch 7/100\n",
      "150/150 - 0s - loss: 0.6847\n",
      "Epoch 8/100\n",
      "150/150 - 0s - loss: 0.6382\n",
      "Epoch 9/100\n",
      "150/150 - 0s - loss: 0.6041\n",
      "Epoch 10/100\n",
      "150/150 - 0s - loss: 0.5686\n",
      "Epoch 11/100\n",
      "150/150 - 0s - loss: 0.5374\n",
      "Epoch 12/100\n",
      "150/150 - 0s - loss: 0.5166\n",
      "Epoch 13/100\n",
      "150/150 - 0s - loss: 0.4913\n",
      "Epoch 14/100\n",
      "150/150 - 0s - loss: 0.4706\n",
      "Epoch 15/100\n",
      "150/150 - 0s - loss: 0.4519\n",
      "Epoch 16/100\n",
      "150/150 - 0s - loss: 0.4337\n",
      "Epoch 17/100\n",
      "150/150 - 0s - loss: 0.4207\n",
      "Epoch 18/100\n",
      "150/150 - 0s - loss: 0.4026\n",
      "Epoch 19/100\n",
      "150/150 - 0s - loss: 0.3894\n",
      "Epoch 20/100\n",
      "150/150 - 0s - loss: 0.3764\n",
      "Epoch 21/100\n",
      "150/150 - 0s - loss: 0.3630\n",
      "Epoch 22/100\n",
      "150/150 - 0s - loss: 0.3527\n",
      "Epoch 23/100\n",
      "150/150 - 0s - loss: 0.3409\n",
      "Epoch 24/100\n",
      "150/150 - 0s - loss: 0.3296\n",
      "Epoch 25/100\n",
      "150/150 - 0s - loss: 0.3179\n",
      "Epoch 26/100\n",
      "150/150 - 0s - loss: 0.3091\n",
      "Epoch 27/100\n",
      "150/150 - 0s - loss: 0.2985\n",
      "Epoch 28/100\n",
      "150/150 - 0s - loss: 0.2884\n",
      "Epoch 29/100\n",
      "150/150 - 0s - loss: 0.2825\n",
      "Epoch 30/100\n",
      "150/150 - 0s - loss: 0.2703\n",
      "Epoch 31/100\n",
      "150/150 - 0s - loss: 0.2643\n",
      "Epoch 32/100\n",
      "150/150 - 0s - loss: 0.2554\n",
      "Epoch 33/100\n",
      "150/150 - 0s - loss: 0.2482\n",
      "Epoch 34/100\n",
      "150/150 - 0s - loss: 0.2395\n",
      "Epoch 35/100\n",
      "150/150 - 0s - loss: 0.2341\n",
      "Epoch 36/100\n",
      "150/150 - 0s - loss: 0.2358\n",
      "Epoch 37/100\n",
      "150/150 - 0s - loss: 0.2174\n",
      "Epoch 38/100\n",
      "150/150 - 0s - loss: 0.2181\n",
      "Epoch 39/100\n",
      "150/150 - 0s - loss: 0.2091\n",
      "Epoch 40/100\n",
      "150/150 - 0s - loss: 0.2036\n",
      "Epoch 41/100\n",
      "150/150 - 0s - loss: 0.1967\n",
      "Epoch 42/100\n",
      "150/150 - 0s - loss: 0.1946\n",
      "Epoch 43/100\n",
      "150/150 - 0s - loss: 0.1917\n",
      "Epoch 44/100\n",
      "150/150 - 0s - loss: 0.1816\n",
      "Epoch 45/100\n",
      "150/150 - 0s - loss: 0.1884\n",
      "Epoch 46/100\n",
      "150/150 - 0s - loss: 0.1736\n",
      "Epoch 47/100\n",
      "150/150 - 0s - loss: 0.1745\n",
      "Epoch 48/100\n",
      "150/150 - 0s - loss: 0.1655\n",
      "Epoch 49/100\n",
      "150/150 - 0s - loss: 0.1620\n",
      "Epoch 50/100\n",
      "150/150 - 0s - loss: 0.1579\n",
      "Epoch 51/100\n",
      "150/150 - 0s - loss: 0.1552\n",
      "Epoch 52/100\n",
      "150/150 - 0s - loss: 0.1511\n",
      "Epoch 53/100\n",
      "150/150 - 0s - loss: 0.1493\n",
      "Epoch 54/100\n",
      "150/150 - 0s - loss: 0.1457\n",
      "Epoch 55/100\n",
      "150/150 - 0s - loss: 0.1434\n",
      "Epoch 56/100\n",
      "150/150 - 0s - loss: 0.1426\n",
      "Epoch 57/100\n",
      "150/150 - 0s - loss: 0.1396\n",
      "Epoch 58/100\n",
      "150/150 - 0s - loss: 0.1402\n",
      "Epoch 59/100\n",
      "150/150 - 0s - loss: 0.1320\n",
      "Epoch 60/100\n",
      "150/150 - 0s - loss: 0.1310\n",
      "Epoch 61/100\n",
      "150/150 - 0s - loss: 0.1279\n",
      "Epoch 62/100\n",
      "150/150 - 0s - loss: 0.1290\n",
      "Epoch 63/100\n",
      "150/150 - 0s - loss: 0.1237\n",
      "Epoch 64/100\n",
      "150/150 - 0s - loss: 0.1224\n",
      "Epoch 65/100\n",
      "150/150 - 0s - loss: 0.1197\n",
      "Epoch 66/100\n",
      "150/150 - 0s - loss: 0.1192\n",
      "Epoch 67/100\n",
      "150/150 - 0s - loss: 0.1155\n",
      "Epoch 68/100\n",
      "150/150 - 0s - loss: 0.1175\n",
      "Epoch 69/100\n",
      "150/150 - 0s - loss: 0.1135\n",
      "Epoch 70/100\n",
      "150/150 - 0s - loss: 0.1146\n",
      "Epoch 71/100\n",
      "150/150 - 0s - loss: 0.1092\n",
      "Epoch 72/100\n",
      "150/150 - 0s - loss: 0.1090\n",
      "Epoch 73/100\n",
      "150/150 - 0s - loss: 0.1076\n",
      "Epoch 74/100\n",
      "150/150 - 0s - loss: 0.1044\n",
      "Epoch 75/100\n",
      "150/150 - 0s - loss: 0.1061\n",
      "Epoch 76/100\n",
      "150/150 - 0s - loss: 0.1021\n",
      "Epoch 77/100\n",
      "150/150 - 0s - loss: 0.1029\n",
      "Epoch 78/100\n",
      "150/150 - 0s - loss: 0.1022\n",
      "Epoch 79/100\n",
      "150/150 - 0s - loss: 0.0997\n",
      "Epoch 80/100\n",
      "150/150 - 0s - loss: 0.0989\n",
      "Epoch 81/100\n",
      "150/150 - 0s - loss: 0.0977\n",
      "Epoch 82/100\n",
      "150/150 - 0s - loss: 0.1010\n",
      "Epoch 83/100\n",
      "150/150 - 0s - loss: 0.0966\n",
      "Epoch 84/100\n",
      "150/150 - 0s - loss: 0.0953\n",
      "Epoch 85/100\n",
      "150/150 - 0s - loss: 0.0937\n",
      "Epoch 86/100\n",
      "150/150 - 0s - loss: 0.0965\n",
      "Epoch 87/100\n",
      "150/150 - 0s - loss: 0.0918\n",
      "Epoch 88/100\n",
      "150/150 - 0s - loss: 0.0923\n",
      "Epoch 89/100\n",
      "150/150 - 0s - loss: 0.0900\n",
      "Epoch 90/100\n",
      "150/150 - 0s - loss: 0.0897\n",
      "Epoch 91/100\n",
      "150/150 - 0s - loss: 0.0913\n",
      "Epoch 92/100\n",
      "150/150 - 0s - loss: 0.0871\n",
      "Epoch 93/100\n",
      "150/150 - 0s - loss: 0.0900\n",
      "Epoch 94/100\n",
      "150/150 - 0s - loss: 0.0882\n",
      "Epoch 95/100\n",
      "150/150 - 0s - loss: 0.0867\n",
      "Epoch 96/100\n",
      "150/150 - 0s - loss: 0.0854\n",
      "Epoch 97/100\n",
      "150/150 - 0s - loss: 0.0847\n",
      "Epoch 98/100\n",
      "150/150 - 0s - loss: 0.0840\n",
      "Epoch 99/100\n",
      "150/150 - 0s - loss: 0.0852\n",
      "Epoch 100/100\n",
      "150/150 - 0s - loss: 0.0871\n"
     ]
    },
    {
     "data": {
      "text/plain": [
       "<tensorflow.python.keras.callbacks.History at 0x275f1d9bdc8>"
      ]
     },
     "execution_count": 12,
     "metadata": {},
     "output_type": "execute_result"
    }
   ],
   "source": [
    "import pandas as pd\n",
    "import io\n",
    "import requests\n",
    "import numpy as np\n",
    "from sklearn import metrics\n",
    "from tensorflow.keras.models import Sequential\n",
    "from tensorflow.keras.layers import Dense, Activation\n",
    "from tensorflow.keras.callbacks import EarlyStopping\n",
    "\n",
    "df = pd.read_csv(\n",
    "    \"https://data.heatonresearch.com/data/t81-558/iris.csv\", \n",
    "    na_values=['NA', '?'])\n",
    "\n",
    "# Convert to numpy - Classification\n",
    "x = df[['sepal_l', 'sepal_w', 'petal_l', 'petal_w']].values\n",
    "dummies = pd.get_dummies(df['species']) # Classification\n",
    "species = dummies.columns\n",
    "y = dummies.values\n",
    "\n",
    "\n",
    "# Build neural network\n",
    "model = Sequential()\n",
    "model.add(Dense(50, input_dim=x.shape[1], activation='relu')) # Hidden 1\n",
    "model.add(Dense(25, activation='relu')) # Hidden 2\n",
    "model.add(Dense(y.shape[1],activation='softmax')) # Output\n",
    "\n",
    "model.compile(loss='categorical_crossentropy', optimizer='adam')\n",
    "model.fit(x,y,verbose=2,epochs=100)"
   ]
  },
  {
   "cell_type": "code",
   "execution_count": 13,
   "metadata": {},
   "outputs": [
    {
     "name": "stdout",
     "output_type": "stream",
     "text": [
      "Index(['Iris-setosa', 'Iris-versicolor', 'Iris-virginica'], dtype='object')\n"
     ]
    }
   ],
   "source": [
    "# Print out number of species found:\n",
    "\n",
    "print(species)"
   ]
  },
  {
   "cell_type": "markdown",
   "metadata": {},
   "source": [
    "Now that you have a neural network training, we would like to be able to use it. The following code makes use of our neural network. Exactly like before, we will generate predictions.  Notice that three values come back for each of the 150 iris flowers.  There were three types of iris (Iris-setosa, Iris-versicolor, and Iris-virginica).  "
   ]
  },
  {
   "cell_type": "code",
   "execution_count": 14,
   "metadata": {},
   "outputs": [
    {
     "name": "stdout",
     "output_type": "stream",
     "text": [
      "Shape: (150, 3)\n",
      "[[9.98257935e-01 1.74211117e-03 1.47250105e-08]\n",
      " [9.94762123e-01 5.23775769e-03 9.35751956e-08]\n",
      " [9.97034669e-01 2.96533993e-03 5.68744980e-08]\n",
      " [9.94459629e-01 5.54029271e-03 1.55113412e-07]\n",
      " [9.98531222e-01 1.46873493e-03 1.33291875e-08]\n",
      " [9.98098075e-01 1.90198515e-03 1.37531018e-08]\n",
      " [9.96991158e-01 3.00874189e-03 7.64488419e-08]\n",
      " [9.97346044e-01 2.65395525e-03 3.05425694e-08]\n",
      " [9.92665589e-01 7.33401440e-03 3.12981911e-07]\n",
      " [9.95905280e-01 4.09475202e-03 5.66798697e-08]]\n"
     ]
    }
   ],
   "source": [
    "pred = model.predict(x)\n",
    "print(f\"Shape: {pred.shape}\")\n",
    "print(pred[0:10])"
   ]
  },
  {
   "cell_type": "markdown",
   "metadata": {},
   "source": [
    "If you would like to turn of scientific notation, the following line can be used:"
   ]
  },
  {
   "cell_type": "code",
   "execution_count": 15,
   "metadata": {},
   "outputs": [],
   "source": [
    "np.set_printoptions(suppress=True)"
   ]
  },
  {
   "cell_type": "markdown",
   "metadata": {},
   "source": [
    "Now we see these values rounded up."
   ]
  },
  {
   "cell_type": "code",
   "execution_count": 16,
   "metadata": {},
   "outputs": [
    {
     "name": "stdout",
     "output_type": "stream",
     "text": [
      "[[1 0 0]\n",
      " [1 0 0]\n",
      " [1 0 0]\n",
      " [1 0 0]\n",
      " [1 0 0]\n",
      " [1 0 0]\n",
      " [1 0 0]\n",
      " [1 0 0]\n",
      " [1 0 0]\n",
      " [1 0 0]]\n"
     ]
    }
   ],
   "source": [
    "print(y[0:10])"
   ]
  },
  {
   "cell_type": "markdown",
   "metadata": {},
   "source": [
    "Usually, the program considers the column with the highest prediction to be the prediction of the neural network.  It is easy to convert the predictions to the expected iris species.  The argmax function finds the index of the maximum prediction for each row."
   ]
  },
  {
   "cell_type": "code",
   "execution_count": 17,
   "metadata": {},
   "outputs": [
    {
     "name": "stdout",
     "output_type": "stream",
     "text": [
      "Predictions: [0 0 0 0 0 0 0 0 0 0 0 0 0 0 0 0 0 0 0 0 0 0 0 0 0 0 0 0 0 0 0 0 0 0 0 0 0\n",
      " 0 0 0 0 0 0 0 0 0 0 0 0 0 1 1 1 1 1 1 1 1 1 1 1 1 1 1 1 1 1 1 1 1 2 1 1 1\n",
      " 1 1 1 1 1 1 1 1 1 2 1 1 1 1 1 1 1 1 1 1 1 1 1 1 1 1 2 2 2 2 2 2 2 2 2 2 2\n",
      " 2 2 2 2 2 2 2 2 2 2 2 2 2 2 2 2 2 2 1 2 2 2 1 2 2 2 2 2 2 2 2 2 2 2 2 2 2\n",
      " 2 2]\n",
      "Expected: [0 0 0 0 0 0 0 0 0 0 0 0 0 0 0 0 0 0 0 0 0 0 0 0 0 0 0 0 0 0 0 0 0 0 0 0 0\n",
      " 0 0 0 0 0 0 0 0 0 0 0 0 0 1 1 1 1 1 1 1 1 1 1 1 1 1 1 1 1 1 1 1 1 1 1 1 1\n",
      " 1 1 1 1 1 1 1 1 1 1 1 1 1 1 1 1 1 1 1 1 1 1 1 1 1 1 2 2 2 2 2 2 2 2 2 2 2\n",
      " 2 2 2 2 2 2 2 2 2 2 2 2 2 2 2 2 2 2 2 2 2 2 2 2 2 2 2 2 2 2 2 2 2 2 2 2 2\n",
      " 2 2]\n"
     ]
    }
   ],
   "source": [
    "predict_classes = np.argmax(pred,axis=1)\n",
    "expected_classes = np.argmax(y,axis=1)\n",
    "print(f\"Predictions: {predict_classes}\")\n",
    "print(f\"Expected: {expected_classes}\")"
   ]
  },
  {
   "cell_type": "markdown",
   "metadata": {},
   "source": [
    "Of course, it is straightforward to turn these indexes back into iris species. We use the species list that we created earlier."
   ]
  },
  {
   "cell_type": "code",
   "execution_count": 18,
   "metadata": {},
   "outputs": [
    {
     "name": "stdout",
     "output_type": "stream",
     "text": [
      "Index(['Iris-setosa', 'Iris-setosa', 'Iris-setosa', 'Iris-setosa',\n",
      "       'Iris-setosa', 'Iris-setosa', 'Iris-setosa', 'Iris-setosa',\n",
      "       'Iris-setosa'],\n",
      "      dtype='object')\n"
     ]
    }
   ],
   "source": [
    "print(species[predict_classes[1:10]])"
   ]
  },
  {
   "cell_type": "markdown",
   "metadata": {},
   "source": [
    "Accuracy might be a more easily understood error metric.  It is essentially a test score.  For all of the iris predictions, what percent were correct?  The downside is it does not consider how confident the neural network was in each prediction."
   ]
  },
  {
   "cell_type": "code",
   "execution_count": 19,
   "metadata": {},
   "outputs": [
    {
     "name": "stdout",
     "output_type": "stream",
     "text": [
      "Accuracy: 0.9733333333333334\n"
     ]
    }
   ],
   "source": [
    "from sklearn.metrics import accuracy_score\n",
    "\n",
    "correct = accuracy_score(expected_classes,predict_classes)\n",
    "print(f\"Accuracy: {correct}\")"
   ]
  },
  {
   "cell_type": "markdown",
   "metadata": {},
   "source": [
    "The code below performs two ad hoc predictions.  The first prediction is simply a single iris flower, and the second predicts two iris flowers.  Notice that the argmax in the second prediction requires **axis=1**?  Since we have a 2D array now, we must specify which axis to take the argmax over.  The value **axis=1** specifies we want the max column index for each row."
   ]
  },
  {
   "cell_type": "code",
   "execution_count": 20,
   "metadata": {},
   "outputs": [
    {
     "name": "stdout",
     "output_type": "stream",
     "text": [
      "[[0.00208851 0.19842853 0.799483  ]]\n",
      "Predict that [[5. 3. 4. 2.]] is: Iris-virginica\n"
     ]
    }
   ],
   "source": [
    "sample_flower = np.array( [[5.0,3.0,4.0,2.0]], dtype=float)\n",
    "pred = model.predict(sample_flower)\n",
    "print(pred)\n",
    "pred = np.argmax(pred)\n",
    "print(f\"Predict that {sample_flower} is: {species[pred]}\")"
   ]
  },
  {
   "cell_type": "markdown",
   "metadata": {},
   "source": [
    "You can also predict two sample flowers."
   ]
  },
  {
   "cell_type": "code",
   "execution_count": 21,
   "metadata": {},
   "outputs": [
    {
     "name": "stdout",
     "output_type": "stream",
     "text": [
      "[[0.00208851 0.19842838 0.79948306]\n",
      " [0.9900221  0.00997756 0.00000035]]\n",
      "Predict that these two flowers [[5.  3.  4.  2. ]\n",
      " [5.2 3.5 1.5 0.8]] \n",
      "are: Index(['Iris-virginica', 'Iris-setosa'], dtype='object')\n"
     ]
    }
   ],
   "source": [
    "sample_flower = np.array( [[5.0,3.0,4.0,2.0],[5.2,3.5,1.5,0.8]],\\\n",
    "        dtype=float)\n",
    "pred = model.predict(sample_flower)\n",
    "print(pred)\n",
    "pred = np.argmax(pred,axis=1)\n",
    "print(f\"Predict that these two flowers {sample_flower} \")\n",
    "print(f\"are: {species[pred]}\")"
   ]
  },
  {
   "cell_type": "code",
   "execution_count": null,
   "metadata": {},
   "outputs": [],
   "source": []
  }
 ],
 "metadata": {
  "anaconda-cloud": {},
  "kernelspec": {
   "display_name": "Python 3.7 (tensorflow)",
   "language": "python",
   "name": "tensorflow"
  },
  "language_info": {
   "codemirror_mode": {
    "name": "ipython",
    "version": 3
   },
   "file_extension": ".py",
   "mimetype": "text/x-python",
   "name": "python",
   "nbconvert_exporter": "python",
   "pygments_lexer": "ipython3",
   "version": "3.7.9"
  }
 },
 "nbformat": 4,
 "nbformat_minor": 4
}
